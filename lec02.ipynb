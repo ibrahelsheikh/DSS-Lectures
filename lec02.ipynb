{
 "cells": [
  {
   "cell_type": "code",
   "execution_count": 3,
   "outputs": [],
   "source": [
    "import pulp\n",
    "import matplotlib.pyplot as plt\n",
    "import numpy as np"
   ],
   "metadata": {
    "collapsed": false,
    "ExecuteTime": {
     "start_time": "2023-04-06T00:08:22.845700Z",
     "end_time": "2023-04-06T00:08:24.033500Z"
    }
   }
  },
  {
   "cell_type": "code",
   "execution_count": 7,
   "outputs": [],
   "source": [
    "# Create the 'prob' variable to contain the problem data\n",
    "my_lp_problem = pulp.LpProblem(\"My LP Problem\", pulp.LpMaximize)"
   ],
   "metadata": {
    "collapsed": false,
    "ExecuteTime": {
     "start_time": "2023-04-05T23:16:53.791275Z",
     "end_time": "2023-04-05T23:16:53.805555Z"
    }
   }
  },
  {
   "cell_type": "code",
   "execution_count": 1,
   "outputs": [
    {
     "ename": "NameError",
     "evalue": "name 'pulp' is not defined",
     "output_type": "error",
     "traceback": [
      "\u001B[1;31m---------------------------------------------------------------------------\u001B[0m",
      "\u001B[1;31mNameError\u001B[0m                                 Traceback (most recent call last)",
      "Input \u001B[1;32mIn [1]\u001B[0m, in \u001B[0;36m<cell line: 2>\u001B[1;34m()\u001B[0m\n\u001B[0;32m      1\u001B[0m \u001B[38;5;66;03m# Instantiate our problem class\u001B[39;00m\n\u001B[1;32m----> 2\u001B[0m model \u001B[38;5;241m=\u001B[39m \u001B[43mpulp\u001B[49m\u001B[38;5;241m.\u001B[39mLpProblem(\u001B[38;5;124m\"\u001B[39m\u001B[38;5;124mProfit maximising problem\u001B[39m\u001B[38;5;124m\"\u001B[39m, pulp\u001B[38;5;241m.\u001B[39mLpMaximize)\n\u001B[0;32m      3\u001B[0m \u001B[38;5;66;03m# create the decision variables\u001B[39;00m\n\u001B[0;32m      4\u001B[0m A \u001B[38;5;241m=\u001B[39m pulp\u001B[38;5;241m.\u001B[39mLpVariable(\u001B[38;5;124m'\u001B[39m\u001B[38;5;124mA\u001B[39m\u001B[38;5;124m'\u001B[39m, lowBound\u001B[38;5;241m=\u001B[39m\u001B[38;5;241m0\u001B[39m, cat\u001B[38;5;241m=\u001B[39m\u001B[38;5;124m'\u001B[39m\u001B[38;5;124mInteger\u001B[39m\u001B[38;5;124m'\u001B[39m)\n",
      "\u001B[1;31mNameError\u001B[0m: name 'pulp' is not defined"
     ]
    }
   ],
   "source": [
    "# Instantiate our problem class\n",
    "model = pulp.LpProblem(\"Profit maximising problem\", pulp.LpMaximize)\n",
    "# create the decision variables\n",
    "A = pulp.LpVariable('A', lowBound=0, cat='Integer')\n",
    "B = pulp.LpVariable('B', lowBound=0, cat='Integer')\n",
    "# Input objective function\n",
    "model += 30000 * A + 45000 * B, \"Profit\"\n",
    "# Input constraints\n",
    "model += 3 * A + 4 * B <= 30000\n",
    "model += 5 * A + 6 * B <= 60000\n",
    "model += A + 3 * B <= 21000\n",
    "# Solve our problem\n",
    "model.solve()\n",
    "# check status of solution\n",
    "print(pulp.LpStatus[model.status])\n",
    "# Print our decision variable values\n",
    "print(\"Production of Car A = \", A.varValue)\n",
    "print(\"Production of Car B = \", B.varValue)\n",
    "# Print our objective function value\n",
    "print(\"Maximum Profit = \", pulp.value(model.objective))\n"
   ],
   "metadata": {
    "collapsed": false,
    "ExecuteTime": {
     "start_time": "2023-04-06T00:18:39.869975Z",
     "end_time": "2023-04-06T00:18:40.145928Z"
    }
   }
  },
  {
   "cell_type": "code",
   "execution_count": null,
   "outputs": [],
   "source": [],
   "metadata": {
    "collapsed": false
   }
  }
 ],
 "metadata": {
  "kernelspec": {
   "display_name": "Python 3",
   "language": "python",
   "name": "python3"
  },
  "language_info": {
   "codemirror_mode": {
    "name": "ipython",
    "version": 2
   },
   "file_extension": ".py",
   "mimetype": "text/x-python",
   "name": "python",
   "nbconvert_exporter": "python",
   "pygments_lexer": "ipython2",
   "version": "2.7.6"
  }
 },
 "nbformat": 4,
 "nbformat_minor": 0
}
