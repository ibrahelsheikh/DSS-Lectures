{
 "cells": [
  {
   "cell_type": "code",
   "execution_count": 8,
   "outputs": [],
   "source": [
    "import pulp\n",
    "import matplotlib.pyplot as plt\n",
    "import numpy as np"
   ],
   "metadata": {
    "collapsed": false,
    "ExecuteTime": {
     "start_time": "2023-04-06T22:17:00.852929Z",
     "end_time": "2023-04-06T22:17:00.910723Z"
    }
   }
  },
  {
   "cell_type": "code",
   "execution_count": 9,
   "outputs": [],
   "source": [
    "# Create the 'prob' variable to contain the problem data\n",
    "my_lp_problem = pulp.LpProblem(\"My LP Problem\", pulp.LpMaximize)"
   ],
   "metadata": {
    "collapsed": false,
    "ExecuteTime": {
     "start_time": "2023-04-06T22:17:00.868146Z",
     "end_time": "2023-04-06T22:17:00.910723Z"
    }
   }
  },
  {
   "cell_type": "code",
   "execution_count": 10,
   "outputs": [],
   "source": [
    "x = pulp.LpVariable('x', lowBound=0, upBound=None, cat='Continuous')\n",
    "y = pulp.LpVariable('y', lowBound=2, upBound=None, cat='Continuous')"
   ],
   "metadata": {
    "collapsed": false,
    "ExecuteTime": {
     "start_time": "2023-04-06T22:17:00.890469Z",
     "end_time": "2023-04-06T22:17:00.910723Z"
    }
   }
  },
  {
   "cell_type": "code",
   "execution_count": 11,
   "outputs": [],
   "source": [
    "# Objective function, first one to input, put lable at end \"Z\"\n",
    "my_lp_problem += 4 * x + 3 * y, \"Z\""
   ],
   "metadata": {
    "collapsed": false,
    "ExecuteTime": {
     "start_time": "2023-04-06T22:17:00.902410Z",
     "end_time": "2023-04-06T22:17:00.915794Z"
    }
   }
  },
  {
   "cell_type": "code",
   "execution_count": 12,
   "outputs": [],
   "source": [
    "# Constraints\n",
    "#my_lp_problem += y >= 2 # no needed since enter in variable as lowBound\n",
    "my_lp_problem += 2 * y <= 25 - x\n",
    "my_lp_problem += 4 * y >= 2 * x - 8\n",
    "my_lp_problem += y <= 2 * x - 5\n",
    "#my_lp_problem += y == 0 # this would make in \"infeasible\""
   ],
   "metadata": {
    "collapsed": false,
    "ExecuteTime": {
     "start_time": "2023-04-06T22:17:00.915794Z",
     "end_time": "2023-04-06T22:17:00.933292Z"
    }
   }
  },
  {
   "cell_type": "code",
   "execution_count": 13,
   "outputs": [
    {
     "data": {
      "text/plain": "1"
     },
     "execution_count": 13,
     "metadata": {},
     "output_type": "execute_result"
    }
   ],
   "source": [
    "my_lp_problem.solve()"
   ],
   "metadata": {
    "collapsed": false,
    "ExecuteTime": {
     "start_time": "2023-04-06T22:17:00.936020Z",
     "end_time": "2023-04-06T22:17:00.990933Z"
    }
   }
  },
  {
   "cell_type": "code",
   "execution_count": 14,
   "outputs": [
    {
     "name": "stdout",
     "output_type": "stream",
     "text": [
      "Status: Optimal\n"
     ]
    }
   ],
   "source": [
    "print(\"Status:\", pulp.LpStatus[my_lp_problem.status])"
   ],
   "metadata": {
    "collapsed": false,
    "ExecuteTime": {
     "start_time": "2023-04-06T22:17:00.988344Z",
     "end_time": "2023-04-06T22:17:01.001469Z"
    }
   }
  },
  {
   "cell_type": "code",
   "execution_count": 15,
   "outputs": [
    {
     "name": "stdout",
     "output_type": "stream",
     "text": [
      "x 14.5\n",
      "y 5.25\n",
      "73.75\n"
     ]
    }
   ],
   "source": [
    "print(x.name, x.varValue)\n",
    "print(y.name, y.varValue)\n",
    "print(pulp.value(my_lp_problem.objective))"
   ],
   "metadata": {
    "collapsed": false,
    "ExecuteTime": {
     "start_time": "2023-04-06T22:17:01.001469Z",
     "end_time": "2023-04-06T22:17:01.081145Z"
    }
   }
  },
  {
   "cell_type": "code",
   "execution_count": 16,
   "outputs": [
    {
     "name": "stdout",
     "output_type": "stream",
     "text": [
      "Optimal\n",
      "Production of Car A =  1200.0\n",
      "Production of Car B =  6600.0\n",
      "Maximum Profit =  333000000.0\n"
     ]
    }
   ],
   "source": [
    "# Instantiate our problem class\n",
    "model = pulp.LpProblem(\"Profit maximising problem\", pulp.LpMaximize)\n",
    "# create the decision variables\n",
    "A = pulp.LpVariable('A', lowBound=0, cat='Integer')\n",
    "B = pulp.LpVariable('B', lowBound=0, cat='Integer')\n",
    "# Input objective function\n",
    "model += 30000 * A + 45000 * B, \"Profit\"\n",
    "# Input constraints\n",
    "model += 3 * A + 4 * B <= 30000\n",
    "model += 5 * A + 6 * B <= 60000\n",
    "model += A + 3 * B <= 21000\n",
    "# Solve our problem\n",
    "model.solve()\n",
    "# check status of solution\n",
    "print(pulp.LpStatus[model.status])\n",
    "# Print our decision variable values\n",
    "print(\"Production of Car A = \", A.varValue)\n",
    "print(\"Production of Car B = \", B.varValue)\n",
    "# Print our objective function value\n",
    "print(\"Maximum Profit = \", pulp.value(model.objective))"
   ],
   "metadata": {
    "collapsed": false,
    "ExecuteTime": {
     "start_time": "2023-04-06T22:17:01.024381Z",
     "end_time": "2023-04-06T22:17:01.081145Z"
    }
   }
  }
 ],
 "metadata": {
  "kernelspec": {
   "display_name": "Python 3",
   "language": "python",
   "name": "python3"
  },
  "language_info": {
   "codemirror_mode": {
    "name": "ipython",
    "version": 2
   },
   "file_extension": ".py",
   "mimetype": "text/x-python",
   "name": "python",
   "nbconvert_exporter": "python",
   "pygments_lexer": "ipython2",
   "version": "2.7.6"
  }
 },
 "nbformat": 4,
 "nbformat_minor": 0
}
