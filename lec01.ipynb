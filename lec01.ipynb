{
 "cells": [
  {
   "cell_type": "markdown",
   "source": [
    "# Linear programming\n",
    "https://github.com/ibrahelsheikh/DSS-Lectures.git\n",
    "\n",
    "## installing pulp in conda environment\n",
    "```\n",
    "conda install -c conda-forge pulp\n",
    "```"
   ],
   "metadata": {
    "collapsed": false
   }
  },
  {
   "cell_type": "markdown",
   "source": [
    "# Simple example\n",
    "Let’s start using PuPL with a simple example. Lets maximize the following objective function :\n",
    "Z = 4x + 3y\n",
    "with and being our decision variables.\n",
    "\n",
    "-  X => 0\n",
    "- y >= 2\n",
    "- 2y <= 25 - x\n",
    "- 4y >= 2x - 8\n",
    "- y <= 2x - 5\n",
    "\n",
    "In addition, the objective function is subject to the following constraints:\n",
    "Before we use PuLP to sove this Linear Program, lets first graph these contrains and the objective function to get a good idea of how\n",
    "the function we are trying to optimize looks like and how the contrains limit this function.\n",
    "\n",
    "\n"
   ],
   "metadata": {
    "collapsed": false
   }
  },
  {
   "cell_type": "code",
   "execution_count": 2,
   "outputs": [
    {
     "name": "stdout",
     "output_type": "stream",
     "text": [
      "Requirement already satisfied: pulp in c:\\users\\ibrahelsheikh\\anaconda3\\lib\\site-packages (2.7.0)\n"
     ]
    }
   ],
   "source": [
    "!pip install pulp"
   ],
   "metadata": {
    "collapsed": false,
    "ExecuteTime": {
     "start_time": "2023-04-06T20:52:58.782051Z",
     "end_time": "2023-04-06T20:53:04.783200Z"
    }
   }
  },
  {
   "cell_type": "code",
   "execution_count": 3,
   "outputs": [],
   "source": [
    "import numpy as np\n",
    "import matplotlib.pyplot as plt\n",
    "import pulp"
   ],
   "metadata": {
    "collapsed": false,
    "ExecuteTime": {
     "start_time": "2023-04-06T20:53:42.731145Z",
     "end_time": "2023-04-06T20:53:44.272130Z"
    }
   }
  },
  {
   "cell_type": "code",
   "execution_count": null,
   "outputs": [],
   "source": [
    "# Construct lines\n",
    "# x > 0\n",
    "x = np.linspace(0, 20, 2000)  # start=0, stop=20, samples=2,000\n",
    "# y >= 2\n",
    "y1 = x * 0 + 2  # we need the \"x\" so that \"y1\" also become a vector!\n",
    "# To graph we just calculate the equality (=)\n",
    "# at this step, later we will \"shade\" the area\n",
    "# included in the inequality (>=) later.\n",
    "# 2y <= 25 - x\n",
    "y2 = (25 - x) / 2.0\n",
    "# 4y >= 2x - 8\n",
    "y3 = (2 * x - 8) / 4.0\n",
    "# y <= 2x - 5\n",
    "y4 = 2 * x - 5\n",
    "# Make plot\n",
    "plt.plot(x, y1, label=r'$y\\geq2$')  #for label in math text use\n",
    "plt.plot(x, y2, label=r'$y\\leq (25-x)/2$')  # r'$ $'\n",
    "plt.plot(x, y3, label=r'$y\\geq (2x - 8)/4$')\n",
    "plt.plot(x, y4, label=r'$y\\leq 2x-5$')\n",
    "plt.xlim((0, 18))  #limits for plot x-axis, left=0, right=18\n",
    "plt.ylim((0, 11))  #limits for plot y-axis, left=0, right=11\n",
    "plt.xlabel(r'$x$')\n",
    "plt.ylabel(r'$y$')\n",
    "plt.legend(bbox_to_anchor=(1.0, 1.0), loc='upper right')\n"
   ],
   "metadata": {
    "collapsed": false,
    "ExecuteTime": {
     "start_time": "2023-04-05T21:52:26.301707Z",
     "end_time": "2023-04-05T21:52:26.864154Z"
    },
    "pycharm": {
     "is_executing": true
    }
   }
  },
  {
   "cell_type": "code",
   "execution_count": null,
   "outputs": [],
   "source": [
    "\n",
    "# Make plot\n",
    "plt.plot(x, y1, label=r'$y\\geq2$') #for label in math text use\n",
    "plt.plot(x, y2, label=r'$2y\\leq25-x$') # r'$ $'\n",
    "plt.plot(x, y3, label=r'$4y\\geq 2x - 8$')\n",
    "plt.plot(x, y4, label=r'$y\\leq 2x-5$')\n",
    "plt.xlim((0, 18)) #limits for plot x-axis, left=0, right=18\n",
    "plt.ylim((0, 11)) #limits for plot y-axis, left=0, right=11\n",
    "plt.xlabel(r'$x$')\n",
    "plt.ylabel(r'$y$')\n",
    "# Fill feasible region\n",
    "# minimum of\n",
    "# y <= (25 - x)/2\n",
    "# y <= 2x - 5\n",
    "y5 = np.minimum(y2, y4) #Compare two arrays and returns a new\n",
    "#array containing the element-wise minima\n",
    "# maximum of\n",
    "# y >= 2\n",
    "# y >= (2x - 8)/4\n",
    "y6 = np.maximum(y1, y3) #Same as above, but return maxima\n",
    "plt.fill_between(x, y5, y6, where=y5>y6, color='grey', alpha=0.5)\n",
    "plt.legend(bbox_to_anchor=(1.0, 1.0) ,loc='upper right' )\n"
   ],
   "metadata": {
    "collapsed": false,
    "ExecuteTime": {
     "start_time": "2023-04-05T22:10:00.038912Z",
     "end_time": "2023-04-05T22:10:00.307572Z"
    },
    "pycharm": {
     "is_executing": true
    }
   }
  },
  {
   "cell_type": "code",
   "execution_count": null,
   "outputs": [],
   "source": [
    "\n",
    "# Make plot\n",
    "plt.plot(x, y1, label=r'$y\\geq2$') #for label in math text use\n",
    "plt.plot(x, y2, label=r'$2y\\leq25-x$') # r'$ $'\n",
    "plt.plot(x, y3, label=r'$4y\\geq 2x - 8$')\n",
    "plt.plot(x, y4, label=r'$y\\leq 2x-5$')\n",
    "plt.xlim((0, 18)) #limits for plot x-axis, left=0, right=18\n",
    "plt.ylim((0, 11)) #limits for plot y-axis, left=0, right=11\n",
    "plt.xlabel(r'$x$')\n",
    "plt.ylabel(r'$y$')\n",
    "# Z=4x+3y\n",
    "def f(x, y):\n",
    " return 4*x + 3*y\n",
    "x = np.linspace(0, 20, 2000)\n",
    "y = np.linspace(0, 20, 2000)\n",
    "X, Y = np.meshgrid(x, y)\n",
    "Z = f(X, Y)\n",
    "plt.contourf(X, Y, Z, 30, cmap = 'coolwarm')\n",
    "plt.colorbar();\n"
   ],
   "metadata": {
    "collapsed": false,
    "ExecuteTime": {
     "start_time": "2023-04-05T22:10:27.394479Z",
     "end_time": "2023-04-05T22:10:29.447919Z"
    },
    "pycharm": {
     "is_executing": true
    }
   }
  },
  {
   "cell_type": "code",
   "execution_count": null,
   "outputs": [],
   "source": [
    "# Create the 'prob' variable to contain the problem data\n",
    "my_lp_problem = pulp.LpProblem(\"My LP Problem\", pulp.LpMaximize)"
   ],
   "metadata": {
    "collapsed": false,
    "ExecuteTime": {
     "start_time": "2023-04-05T22:25:47.513955Z",
     "end_time": "2023-04-05T22:25:47.528153Z"
    },
    "pycharm": {
     "is_executing": true
    }
   }
  }
 ],
 "metadata": {
  "kernelspec": {
   "display_name": "Python 3",
   "language": "python",
   "name": "python3"
  },
  "language_info": {
   "codemirror_mode": {
    "name": "ipython",
    "version": 2
   },
   "file_extension": ".py",
   "mimetype": "text/x-python",
   "name": "python",
   "nbconvert_exporter": "python",
   "pygments_lexer": "ipython2",
   "version": "2.7.6"
  }
 },
 "nbformat": 4,
 "nbformat_minor": 0
}
